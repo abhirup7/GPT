{
  "cells": [
    {
      "cell_type": "code",
      "execution_count": 4,
      "metadata": {
        "id": "O6medjfRsLD9"
      },
      "outputs": [],
      "source": [
        "# read tiny shakespeare dataset\n",
        "with open('input.txt', 'r', encoding='utf-8') as f:\n",
        "    text = f.read()"
      ]
    },
    {
      "cell_type": "code",
      "execution_count": 5,
      "metadata": {
        "colab": {
          "base_uri": "https://localhost:8080/"
        },
        "id": "6xWI_VyAsN8F",
        "outputId": "ed819dd0-72e5-40a6-d2ed-928ff73bfda6"
      },
      "outputs": [
        {
          "name": "stdout",
          "output_type": "stream",
          "text": [
            "length of dataset in characters:  5991293\n"
          ]
        }
      ],
      "source": [
        "print(\"length of dataset in characters: \", len(text))"
      ]
    },
    {
      "cell_type": "code",
      "execution_count": 6,
      "metadata": {},
      "outputs": [],
      "source": [
        "def display(text):\n",
        "    words = text.split()\n",
        "    output = []\n",
        "    count = 0\n",
        "    \n",
        "    for word in words:\n",
        "        output.append(word)\n",
        "        count += 1\n",
        "        \n",
        "        if count == 20 or word.endswith('.'):\n",
        "            output.append('\\n')\n",
        "            count = 0\n",
        "    \n",
        "    print(' '.join(output))\n",
        "\n",
        "# # Example usage\n",
        "# text = \"This is a sample text to demonstrate the function. It should split the text every twenty words or at every period.\"\n",
        "# formatted_text = display(text)\n",
        "# print(formatted_text)\n"
      ]
    },
    {
      "cell_type": "code",
      "execution_count": 7,
      "metadata": {
        "colab": {
          "base_uri": "https://localhost:8080/"
        },
        "id": "2c5V0FvqseE0",
        "outputId": "25ca7adc-b8c0-42d1-b08c-e0863c5c314e"
      },
      "outputs": [
        {
          "name": "stdout",
          "output_type": "stream",
          "text": [
            "THE BOY WHO LIVED Mr and Mrs Dursley of number four Privet Drive were proud to say that they were \n",
            " perfectly normal thank you very much .They were the last people youd expect to be involved in anything strange or \n",
            " mysterious because they just didnt hold with such nonsense .Mr Dursley was the director of a firm called Grunnings which \n",
            " made drills .He was a big beefy man with hardly any neck although he did have a very large mustache \n",
            " .Mrs Dursley was thin and blonde and had nearly twice the usual amount of neck which came in very useful \n",
            " as she spent so much of her time craning over garden fences spying on the neighbors .The Dursley s had \n",
            " a small son called Dudley and in their opinion there was no finer boy anywhere .The Dursleys had everything they \n",
            " wanted but they also had a secret and their greatest fear was that somebody would discover it .They didnt think \n",
            " they could bear it if anyone found out about the Potters .Mrs Potter was Mrs Dursleys sister but they hadnt \n",
            " met for several years in f\n"
          ]
        }
      ],
      "source": [
        "# let's look at the first 1000 characters\n",
        "display(text[:1000])"
      ]
    },
    {
      "cell_type": "code",
      "execution_count": 8,
      "metadata": {
        "colab": {
          "base_uri": "https://localhost:8080/"
        },
        "id": "0e-Rbyr8sfM8",
        "outputId": "f34e94a9-5b44-4cf3-885b-986731929109"
      },
      "outputs": [
        {
          "name": "stdout",
          "output_type": "stream",
          "text": [
            " !.0123456789?ABCDEFGHIJKLMNOPQRSTUVWXYZabcdefghijklmnopqrstuvwxyz~‘•■□\n",
            "71\n"
          ]
        }
      ],
      "source": [
        "# here are all the unique characters that occur in this text\n",
        "chars = sorted(list(set(text)))\n",
        "vocab_size = len(chars)\n",
        "print(''.join(chars))\n",
        "print(vocab_size)"
      ]
    },
    {
      "cell_type": "code",
      "execution_count": 9,
      "metadata": {
        "colab": {
          "base_uri": "https://localhost:8080/"
        },
        "id": "Yw1LKNCgwjj1",
        "outputId": "86fcc21c-2cf7-40d9-cd7b-b5a253da4459"
      },
      "outputs": [
        {
          "name": "stdout",
          "output_type": "stream",
          "text": [
            "[47, 48, 48, 0, 59, 47, 44, 57, 44]\n",
            "hii there\n"
          ]
        }
      ],
      "source": [
        "# create a mapping from characters to integers\n",
        "stoi = { ch:i for i,ch in enumerate(chars) }\n",
        "itos = { i:ch for i,ch in enumerate(chars) }\n",
        "encode = lambda s: [stoi[c] for c in s] # encoder: take a string, output a list of integers\n",
        "decode = lambda l: ''.join([itos[i] for i in l]) # decoder: take a list of integers, output a string\n",
        "\n",
        "print(encode(\"hii there\"))\n",
        "print(decode(encode(\"hii there\")))"
      ]
    },
    {
      "cell_type": "code",
      "execution_count": 10,
      "metadata": {
        "colab": {
          "base_uri": "https://localhost:8080/"
        },
        "id": "YJb0OXPwzvqg",
        "outputId": "db7297cc-36a9-4fae-e941-e7bb9e0e91d1"
      },
      "outputs": [
        {
          "name": "stdout",
          "output_type": "stream",
          "text": [
            "torch.Size([5991293]) torch.int64\n",
            "tensor([33, 21, 18,  0, 15, 28, 38,  0, 36, 21, 28,  0, 25, 22, 35, 18, 17,  0,\n",
            "        26, 57,  0, 40, 53, 43,  0, 26, 57, 58,  0, 17, 60, 57, 58, 51, 44, 64,\n",
            "         0, 54, 45,  0, 53, 60, 52, 41, 44, 57,  0, 45, 54, 60, 57,  0, 29, 57,\n",
            "        48, 61, 44, 59,  0, 17, 57, 48, 61, 44,  0, 62, 44, 57, 44,  0, 55, 57,\n",
            "        54, 60, 43,  0, 59, 54,  0, 58, 40, 64,  0, 59, 47, 40, 59,  0, 59, 47,\n",
            "        44, 64,  0, 62, 44, 57, 44,  0, 55, 44, 57, 45, 44, 42, 59, 51, 64,  0,\n",
            "        53, 54, 57, 52, 40, 51,  0, 59, 47, 40, 53, 50,  0, 64, 54, 60,  0, 61,\n",
            "        44, 57, 64,  0, 52, 60, 42, 47,  0,  2, 33, 47, 44, 64,  0, 62, 44, 57,\n",
            "        44,  0, 59, 47, 44,  0, 51, 40, 58, 59,  0, 55, 44, 54, 55, 51, 44,  0,\n",
            "        64, 54, 60, 43,  0, 44, 63, 55, 44, 42, 59,  0, 59, 54,  0, 41, 44,  0,\n",
            "        48, 53, 61, 54, 51, 61, 44, 43,  0, 48, 53,  0, 40, 53, 64, 59, 47, 48,\n",
            "        53, 46,  0, 58, 59, 57, 40, 53, 46, 44,  0, 54, 57,  0, 52, 64, 58, 59,\n",
            "        44, 57, 48, 54, 60, 58,  0, 41, 44, 42, 40, 60, 58, 44,  0, 59, 47, 44,\n",
            "        64,  0, 49, 60, 58, 59,  0, 43, 48, 43, 53, 59,  0, 47, 54, 51, 43,  0,\n",
            "        62, 48, 59, 47,  0, 58, 60, 42, 47,  0, 53, 54, 53, 58, 44, 53, 58, 44,\n",
            "         0,  2, 26, 57,  0, 17, 60, 57, 58, 51, 44, 64,  0, 62, 40, 58,  0, 59,\n",
            "        47, 44,  0, 43, 48, 57, 44, 42, 59, 54, 57,  0, 54, 45,  0, 40,  0, 45,\n",
            "        48, 57, 52,  0, 42, 40, 51, 51, 44, 43,  0, 20, 57, 60, 53, 53, 48, 53,\n",
            "        46, 58,  0, 62, 47, 48, 42, 47,  0, 52, 40, 43, 44,  0, 43, 57, 48, 51,\n",
            "        51, 58,  0,  2, 21, 44,  0, 62, 40, 58,  0, 40,  0, 41, 48, 46,  0, 41,\n",
            "        44, 44, 45, 64,  0, 52, 40, 53,  0, 62, 48, 59, 47,  0, 47, 40, 57, 43,\n",
            "        51, 64,  0, 40, 53, 64,  0, 53, 44, 42, 50,  0, 40, 51, 59, 47, 54, 60,\n",
            "        46, 47,  0, 47, 44,  0, 43, 48, 43,  0, 47, 40, 61, 44,  0, 40,  0, 61,\n",
            "        44, 57, 64,  0, 51, 40, 57, 46, 44,  0, 52, 60, 58, 59, 40, 42, 47, 44,\n",
            "         0,  2, 26, 57, 58,  0, 17, 60, 57, 58, 51, 44, 64,  0, 62, 40, 58,  0,\n",
            "        59, 47, 48, 53,  0, 40, 53, 43,  0, 41, 51, 54, 53, 43, 44,  0, 40, 53,\n",
            "        43,  0, 47, 40, 43,  0, 53, 44, 40, 57, 51, 64,  0, 59, 62, 48, 42, 44,\n",
            "         0, 59, 47, 44,  0, 60, 58, 60, 40, 51,  0, 40, 52, 54, 60, 53, 59,  0,\n",
            "        54, 45,  0, 53, 44, 42, 50,  0, 62, 47, 48, 42, 47,  0, 42, 40, 52, 44,\n",
            "         0, 48, 53,  0, 61, 44, 57, 64,  0, 60, 58, 44, 45, 60, 51,  0, 40, 58,\n",
            "         0, 58, 47, 44,  0, 58, 55, 44, 53, 59,  0, 58, 54,  0, 52, 60, 42, 47,\n",
            "         0, 54, 45,  0, 47, 44, 57,  0, 59, 48, 52, 44,  0, 42, 57, 40, 53, 48,\n",
            "        53, 46,  0, 54, 61, 44, 57,  0, 46, 40, 57, 43, 44, 53,  0, 45, 44, 53,\n",
            "        42, 44, 58,  0, 58, 55, 64, 48, 53, 46,  0, 54, 53,  0, 59, 47, 44,  0,\n",
            "        53, 44, 48, 46, 47, 41, 54, 57, 58,  0,  2, 33, 47, 44,  0, 17, 60, 57,\n",
            "        58, 51, 44, 64,  0, 58,  0, 47, 40, 43,  0, 40,  0, 58, 52, 40, 51, 51,\n",
            "         0, 58, 54, 53,  0, 42, 40, 51, 51, 44, 43,  0, 17, 60, 43, 51, 44, 64,\n",
            "         0, 40, 53, 43,  0, 48, 53,  0, 59, 47, 44, 48, 57,  0, 54, 55, 48, 53,\n",
            "        48, 54, 53,  0, 59, 47, 44, 57, 44,  0, 62, 40, 58,  0, 53, 54,  0, 45,\n",
            "        48, 53, 44, 57,  0, 41, 54, 64,  0, 40, 53, 64, 62, 47, 44, 57, 44,  0,\n",
            "         2, 33, 47, 44,  0, 17, 60, 57, 58, 51, 44, 64, 58,  0, 47, 40, 43,  0,\n",
            "        44, 61, 44, 57, 64, 59, 47, 48, 53, 46,  0, 59, 47, 44, 64,  0, 62, 40,\n",
            "        53, 59, 44, 43,  0, 41, 60, 59,  0, 59, 47, 44, 64,  0, 40, 51, 58, 54,\n",
            "         0, 47, 40, 43,  0, 40,  0, 58, 44, 42, 57, 44, 59,  0, 40, 53, 43,  0,\n",
            "        59, 47, 44, 48, 57,  0, 46, 57, 44, 40, 59, 44, 58, 59,  0, 45, 44, 40,\n",
            "        57,  0, 62, 40, 58,  0, 59, 47, 40, 59,  0, 58, 54, 52, 44, 41, 54, 43,\n",
            "        64,  0, 62, 54, 60, 51, 43,  0, 43, 48, 58, 42, 54, 61, 44, 57,  0, 48,\n",
            "        59,  0,  2, 33, 47, 44, 64,  0, 43, 48, 43, 53, 59,  0, 59, 47, 48, 53,\n",
            "        50,  0, 59, 47, 44, 64,  0, 42, 54, 60, 51, 43,  0, 41, 44, 40, 57,  0,\n",
            "        48, 59,  0, 48, 45,  0, 40, 53, 64, 54, 53, 44,  0, 45, 54, 60, 53, 43,\n",
            "         0, 54, 60, 59,  0, 40, 41, 54, 60, 59,  0, 59, 47, 44,  0, 29, 54, 59,\n",
            "        59, 44, 57, 58,  0,  2, 26, 57, 58,  0, 29, 54, 59, 59, 44, 57,  0, 62,\n",
            "        40, 58,  0, 26, 57, 58,  0, 17, 60, 57, 58, 51, 44, 64, 58,  0, 58, 48,\n",
            "        58, 59, 44, 57,  0, 41, 60, 59,  0, 59, 47, 44, 64,  0, 47, 40, 43, 53,\n",
            "        59,  0, 52, 44, 59,  0, 45, 54, 57,  0, 58, 44, 61, 44, 57, 40, 51,  0,\n",
            "        64, 44, 40, 57, 58,  0, 48, 53,  0, 45])\n"
          ]
        }
      ],
      "source": [
        "# let's now encode the entire text dataset and store it into a torch.Tensor\n",
        "import torch # we use PyTorch: https://pytorch.org\n",
        "data = torch.tensor(encode(text), dtype=torch.long)\n",
        "print(data.shape, data.dtype)\n",
        "print(data[:1000]) # the 1000 characters we looked at earier will to the GPT look like this"
      ]
    },
    {
      "cell_type": "code",
      "execution_count": 11,
      "metadata": {
        "id": "f_WIXqxz0lU5"
      },
      "outputs": [],
      "source": [
        "# Let's now split up the data into train and validation sets\n",
        "n = int(0.9*len(data)) # first 90% will be train, rest val\n",
        "train_data = data[:n]\n",
        "val_data = data[n:]"
      ]
    },
    {
      "cell_type": "code",
      "execution_count": 12,
      "metadata": {
        "colab": {
          "base_uri": "https://localhost:8080/"
        },
        "id": "TD5Bj8Y6IAD4",
        "outputId": "bf23c586-1d33-4af1-b63d-ce6f90b0a528"
      },
      "outputs": [
        {
          "data": {
            "text/plain": [
              "tensor([33, 21, 18,  0, 15, 28, 38,  0, 36])"
            ]
          },
          "execution_count": 12,
          "metadata": {},
          "output_type": "execute_result"
        }
      ],
      "source": [
        "block_size = 8\n",
        "train_data[:block_size+1]"
      ]
    },
    {
      "cell_type": "code",
      "execution_count": 13,
      "metadata": {
        "colab": {
          "base_uri": "https://localhost:8080/"
        },
        "id": "9HXDe8vGJCEn",
        "outputId": "588663aa-1de5-4ef7-aba0-4a96fe828353"
      },
      "outputs": [
        {
          "name": "stdout",
          "output_type": "stream",
          "text": [
            "when input is tensor([33]) the target: 21\n",
            "when input is tensor([33, 21]) the target: 18\n",
            "when input is tensor([33, 21, 18]) the target: 0\n",
            "when input is tensor([33, 21, 18,  0]) the target: 15\n",
            "when input is tensor([33, 21, 18,  0, 15]) the target: 28\n",
            "when input is tensor([33, 21, 18,  0, 15, 28]) the target: 38\n",
            "when input is tensor([33, 21, 18,  0, 15, 28, 38]) the target: 0\n",
            "when input is tensor([33, 21, 18,  0, 15, 28, 38,  0]) the target: 36\n"
          ]
        }
      ],
      "source": [
        "x = train_data[:block_size]\n",
        "y = train_data[1:block_size+1]\n",
        "for t in range(block_size):\n",
        "    context = x[:t+1]\n",
        "    target = y[t]\n",
        "    print(f\"when input is {context} the target: {target}\")"
      ]
    },
    {
      "cell_type": "code",
      "execution_count": 14,
      "metadata": {
        "colab": {
          "base_uri": "https://localhost:8080/"
        },
        "id": "Q3k1Czf7LuA9",
        "outputId": "4ea8e8a0-443c-49bb-b3bf-ba36e1712999"
      },
      "outputs": [
        {
          "name": "stdout",
          "output_type": "stream",
          "text": [
            "inputs:\n",
            "torch.Size([4, 8])\n",
            "tensor([[64, 54, 60,  0, 50, 53, 54, 62],\n",
            "        [55, 40, 57, 50,  0,  2, 28, 53],\n",
            "        [59, 44, 57, 41, 44, 44, 57,  0],\n",
            "        [44, 40, 42, 47, 44, 57, 58,  0]])\n",
            "targets:\n",
            "torch.Size([4, 8])\n",
            "tensor([[54, 60,  0, 50, 53, 54, 62,  0],\n",
            "        [40, 57, 50,  0,  2, 28, 53, 44],\n",
            "        [44, 57, 41, 44, 44, 57,  0, 42],\n",
            "        [40, 42, 47, 44, 57, 58,  0, 43]])\n",
            "----\n",
            "when input is [64] the target: 54\n",
            "when input is [64, 54] the target: 60\n",
            "when input is [64, 54, 60] the target: 0\n",
            "when input is [64, 54, 60, 0] the target: 50\n",
            "when input is [64, 54, 60, 0, 50] the target: 53\n",
            "when input is [64, 54, 60, 0, 50, 53] the target: 54\n",
            "when input is [64, 54, 60, 0, 50, 53, 54] the target: 62\n",
            "when input is [64, 54, 60, 0, 50, 53, 54, 62] the target: 0\n",
            "when input is [55] the target: 40\n",
            "when input is [55, 40] the target: 57\n",
            "when input is [55, 40, 57] the target: 50\n",
            "when input is [55, 40, 57, 50] the target: 0\n",
            "when input is [55, 40, 57, 50, 0] the target: 2\n",
            "when input is [55, 40, 57, 50, 0, 2] the target: 28\n",
            "when input is [55, 40, 57, 50, 0, 2, 28] the target: 53\n",
            "when input is [55, 40, 57, 50, 0, 2, 28, 53] the target: 44\n",
            "when input is [59] the target: 44\n",
            "when input is [59, 44] the target: 57\n",
            "when input is [59, 44, 57] the target: 41\n",
            "when input is [59, 44, 57, 41] the target: 44\n",
            "when input is [59, 44, 57, 41, 44] the target: 44\n",
            "when input is [59, 44, 57, 41, 44, 44] the target: 57\n",
            "when input is [59, 44, 57, 41, 44, 44, 57] the target: 0\n",
            "when input is [59, 44, 57, 41, 44, 44, 57, 0] the target: 42\n",
            "when input is [44] the target: 40\n",
            "when input is [44, 40] the target: 42\n",
            "when input is [44, 40, 42] the target: 47\n",
            "when input is [44, 40, 42, 47] the target: 44\n",
            "when input is [44, 40, 42, 47, 44] the target: 57\n",
            "when input is [44, 40, 42, 47, 44, 57] the target: 58\n",
            "when input is [44, 40, 42, 47, 44, 57, 58] the target: 0\n",
            "when input is [44, 40, 42, 47, 44, 57, 58, 0] the target: 43\n"
          ]
        }
      ],
      "source": [
        "torch.manual_seed(1337)\n",
        "batch_size = 4 # how many independent sequences will we process in parallel?\n",
        "block_size = 8 # what is the maximum context length for predictions?\n",
        "\n",
        "def get_batch(split):\n",
        "    # generate a small batch of data of inputs x and targets y\n",
        "    data = train_data if split == 'train' else val_data\n",
        "    ix = torch.randint(len(data) - block_size, (batch_size,))\n",
        "    x = torch.stack([data[i:i+block_size] for i in ix])\n",
        "    y = torch.stack([data[i+1:i+block_size+1] for i in ix])\n",
        "    return x, y\n",
        "\n",
        "xb, yb = get_batch('train')\n",
        "print('inputs:')\n",
        "print(xb.shape)\n",
        "print(xb)\n",
        "print('targets:')\n",
        "print(yb.shape)\n",
        "print(yb)\n",
        "\n",
        "print('----')\n",
        "\n",
        "for b in range(batch_size): # batch dimension\n",
        "    for t in range(block_size): # time dimension\n",
        "        context = xb[b, :t+1]\n",
        "        target = yb[b,t]\n",
        "        print(f\"when input is {context.tolist()} the target: {target}\")"
      ]
    },
    {
      "cell_type": "code",
      "execution_count": 15,
      "metadata": {
        "colab": {
          "base_uri": "https://localhost:8080/"
        },
        "id": "qpyyAeIzQjlO",
        "outputId": "a650f8dc-da81-400b-bc59-0a595487fdb9"
      },
      "outputs": [
        {
          "name": "stdout",
          "output_type": "stream",
          "text": [
            "tensor([[64, 54, 60,  0, 50, 53, 54, 62],\n",
            "        [55, 40, 57, 50,  0,  2, 28, 53],\n",
            "        [59, 44, 57, 41, 44, 44, 57,  0],\n",
            "        [44, 40, 42, 47, 44, 57, 58,  0]])\n"
          ]
        }
      ],
      "source": [
        "print(xb) # our input to the transformer"
      ]
    },
    {
      "cell_type": "code",
      "execution_count": 16,
      "metadata": {
        "colab": {
          "base_uri": "https://localhost:8080/"
        },
        "id": "nql_1ER53oCf",
        "outputId": "5de90b1b-4603-428a-f571-fe4bd3c45436"
      },
      "outputs": [
        {
          "name": "stdout",
          "output_type": "stream",
          "text": [
            "torch.Size([32, 71])\n",
            "tensor(4.8702, grad_fn=<NllLossBackward0>)\n"
          ]
        },
        {
          "name": "stdout",
          "output_type": "stream",
          "text": [
            " 3yhb■rnCYI1Z‘ZjKrtYdC2dB5iWFK!vIH4VBji6Nes8szMeFzq5ic5■C□55VED?VB9sYz‘OAtayh6Mes8‘Zj4nQj?r2TEi5rIFqB\n"
          ]
        }
      ],
      "source": [
        "import torch\n",
        "import torch.nn as nn\n",
        "from torch.nn import functional as F\n",
        "torch.manual_seed(1337)\n",
        "\n",
        "class BigramLanguageModel(nn.Module):\n",
        "\n",
        "    def __init__(self, vocab_size):\n",
        "        super().__init__()\n",
        "        # each token directly reads off the logits for the next token from a lookup table\n",
        "        self.token_embedding_table = nn.Embedding(vocab_size, vocab_size)\n",
        "\n",
        "    def forward(self, idx, targets=None):\n",
        "\n",
        "        # idx and targets are both (B,T) tensor of integers\n",
        "        logits = self.token_embedding_table(idx) # (B,T,C)\n",
        "\n",
        "        if targets is None:\n",
        "            loss = None\n",
        "        else:\n",
        "            B, T, C = logits.shape\n",
        "            logits = logits.view(B*T, C)\n",
        "            targets = targets.view(B*T)\n",
        "            loss = F.cross_entropy(logits, targets)\n",
        "\n",
        "        return logits, loss\n",
        "\n",
        "    def generate(self, idx, max_new_tokens):\n",
        "        # idx is (B, T) array of indices in the current context\n",
        "        for _ in range(max_new_tokens):\n",
        "            # get the predictions\n",
        "            logits, loss = self(idx)\n",
        "            # focus only on the last time step\n",
        "            logits = logits[:, -1, :] # becomes (B, C)\n",
        "            # apply softmax to get probabilities\n",
        "            probs = F.softmax(logits, dim=-1) # (B, C)\n",
        "            # sample from the distribution\n",
        "            idx_next = torch.multinomial(probs, num_samples=1) # (B, 1)\n",
        "            # append sampled index to the running sequence\n",
        "            idx = torch.cat((idx, idx_next), dim=1) # (B, T+1)\n",
        "        return idx\n",
        "\n",
        "m = BigramLanguageModel(vocab_size)\n",
        "logits, loss = m(xb, yb)\n",
        "print(logits.shape)\n",
        "print(loss)\n",
        "\n",
        "print(decode(m.generate(idx = torch.zeros((1, 1), dtype=torch.long), max_new_tokens=100)[0].tolist()))\n"
      ]
    },
    {
      "cell_type": "code",
      "execution_count": 17,
      "metadata": {
        "id": "eTyJ8qAaDdiF"
      },
      "outputs": [],
      "source": [
        "# create a PyTorch optimizer\n",
        "optimizer = torch.optim.AdamW(m.parameters(), lr=1e-3)"
      ]
    },
    {
      "cell_type": "code",
      "execution_count": 18,
      "metadata": {
        "colab": {
          "base_uri": "https://localhost:8080/"
        },
        "id": "Hs4kI8YdEkQj",
        "outputId": "42ded55c-2983-4d91-c528-675b2edfa849"
      },
      "outputs": [
        {
          "name": "stdout",
          "output_type": "stream",
          "text": [
            "4.719204425811768\n"
          ]
        }
      ],
      "source": [
        "batch_size = 32\n",
        "for steps in range(100): # increase number of steps for good results...\n",
        "\n",
        "    # sample a batch of data\n",
        "    xb, yb = get_batch('train')\n",
        "\n",
        "    # evaluate the loss\n",
        "    logits, loss = m(xb, yb)\n",
        "    optimizer.zero_grad(set_to_none=True)\n",
        "    loss.backward()\n",
        "    optimizer.step()\n",
        "\n",
        "print(loss.item())\n"
      ]
    },
    {
      "cell_type": "code",
      "execution_count": 19,
      "metadata": {
        "colab": {
          "base_uri": "https://localhost:8080/"
        },
        "id": "EcVIDWAZEtjN",
        "outputId": "0ad6f9d2-ad58-4498-a5f8-6f31407bb18b"
      },
      "outputs": [
        {
          "name": "stdout",
          "output_type": "stream",
          "text": [
            " oxCXQbh■C□yw Rz■•Yoj?•I.4ZGfGjUmw fRSqsn!9DimFkOpXWDYYY Iol0mxtbPltXH4f7!B7PAH7NUimQuuTT•sFH8Qt3sOLgJta!6~M•ZnYK77QRSJZeTtxeMjXMX fBKX5■.Hr26□5sUm■99MX.~?9VfSqEuXMX5SVmVv‘A‘ggP8JXDS kIwggPYEVi.has■Evd6GKq•yQWX wVDJ4oWyz9B□pZa6M1.dNepE7Vlv‘qcxkjU7eELIHlaggP7XB■‘FyrxrIyhQO!5Vm s□sNfD26nu0oj.q□•■lw48uTtB7pp !siMH40pVKm■U3!6M?■4wanXMBUsWzS.dZXjc8486■pej9A5 EYe■•hggaGSKM9B•■yhcUij02U4vZYFge4FQsWdwyRR6• □tX■C2~Y6lwJ‘WkkX7ILGkIdPIQbwyhC5Rq•n389SSeMAPAL1w9PCFsNykS‘ ik8u~PvfThepDz•5■J4•BXyC3KXD6MGT!w401■\n"
          ]
        }
      ],
      "source": [
        "print(decode(m.generate(idx = torch.zeros((1, 1), dtype=torch.long), max_new_tokens=500)[0].tolist()))"
      ]
    },
    {
      "cell_type": "markdown",
      "metadata": {
        "id": "XinV8nmAnmKN"
      },
      "source": [
        "## The mathematical trick in self-attention"
      ]
    },
    {
      "cell_type": "code",
      "execution_count": 20,
      "metadata": {
        "colab": {
          "base_uri": "https://localhost:8080/"
        },
        "id": "tukiH-NbRBhA",
        "outputId": "d981f6d4-ac08-4ec2-8284-82f5fa1e0815"
      },
      "outputs": [
        {
          "name": "stdout",
          "output_type": "stream",
          "text": [
            "a=\n",
            "tensor([[1.0000, 0.0000, 0.0000],\n",
            "        [0.5000, 0.5000, 0.0000],\n",
            "        [0.3333, 0.3333, 0.3333]])\n",
            "--\n",
            "b=\n",
            "tensor([[2., 7.],\n",
            "        [6., 4.],\n",
            "        [6., 5.]])\n",
            "--\n",
            "c=\n",
            "tensor([[2.0000, 7.0000],\n",
            "        [4.0000, 5.5000],\n",
            "        [4.6667, 5.3333]])\n"
          ]
        }
      ],
      "source": [
        "# toy example illustrating how matrix multiplication can be used for a \"weighted aggregation\"\n",
        "torch.manual_seed(42)\n",
        "a = torch.tril(torch.ones(3, 3))\n",
        "a = a / torch.sum(a, 1, keepdim=True)\n",
        "b = torch.randint(0,10,(3,2)).float()\n",
        "c = a @ b\n",
        "print('a=')\n",
        "print(a)\n",
        "print('--')\n",
        "print('b=')\n",
        "print(b)\n",
        "print('--')\n",
        "print('c=')\n",
        "print(c)"
      ]
    },
    {
      "cell_type": "code",
      "execution_count": 21,
      "metadata": {
        "colab": {
          "base_uri": "https://localhost:8080/"
        },
        "id": "Hs_E24uRE8kr",
        "outputId": "8bf3ff5f-565e-48b8-de8e-7272706c8e12"
      },
      "outputs": [
        {
          "data": {
            "text/plain": [
              "torch.Size([4, 8, 2])"
            ]
          },
          "execution_count": 21,
          "metadata": {},
          "output_type": "execute_result"
        }
      ],
      "source": [
        "# consider the following toy example:\n",
        "\n",
        "torch.manual_seed(1337)\n",
        "B,T,C = 4,8,2 # batch, time, channels\n",
        "x = torch.randn(B,T,C)\n",
        "x.shape"
      ]
    },
    {
      "cell_type": "code",
      "execution_count": 22,
      "metadata": {
        "id": "86NuXX0fn7ps"
      },
      "outputs": [],
      "source": [
        "# We want x[b,t] = mean_{i<=t} x[b,i]\n",
        "xbow = torch.zeros((B,T,C))\n",
        "for b in range(B):\n",
        "    for t in range(T):\n",
        "        xprev = x[b,:t+1] # (t,C)\n",
        "        xbow[b,t] = torch.mean(xprev, 0)\n"
      ]
    },
    {
      "cell_type": "code",
      "execution_count": 23,
      "metadata": {
        "colab": {
          "base_uri": "https://localhost:8080/"
        },
        "id": "yhdOAd6-wXkZ",
        "outputId": "eaf6ab61-dff1-4bb7-e623-47f692bad5f9"
      },
      "outputs": [
        {
          "data": {
            "text/plain": [
              "False"
            ]
          },
          "execution_count": 23,
          "metadata": {},
          "output_type": "execute_result"
        }
      ],
      "source": [
        "# version 2: using matrix multiply for a weighted aggregation\n",
        "wei = torch.tril(torch.ones(T, T))\n",
        "wei = wei / wei.sum(1, keepdim=True)\n",
        "xbow2 = wei @ x # (B, T, T) @ (B, T, C) ----> (B, T, C)\n",
        "torch.allclose(xbow, xbow2)"
      ]
    },
    {
      "cell_type": "code",
      "execution_count": 24,
      "metadata": {
        "colab": {
          "base_uri": "https://localhost:8080/"
        },
        "id": "wOURrfG-ysoL",
        "outputId": "080b500d-8110-4602-fcef-7d6f2ebfc6bc"
      },
      "outputs": [
        {
          "data": {
            "text/plain": [
              "False"
            ]
          },
          "execution_count": 24,
          "metadata": {},
          "output_type": "execute_result"
        }
      ],
      "source": [
        "# version 3: use Softmax\n",
        "tril = torch.tril(torch.ones(T, T))\n",
        "wei = torch.zeros((T,T))\n",
        "wei = wei.masked_fill(tril == 0, float('-inf'))\n",
        "wei = F.softmax(wei, dim=-1)\n",
        "xbow3 = wei @ x\n",
        "torch.allclose(xbow, xbow3)\n"
      ]
    },
    {
      "cell_type": "code",
      "execution_count": 25,
      "metadata": {
        "colab": {
          "base_uri": "https://localhost:8080/"
        },
        "id": "EDarxEWIRMKq",
        "outputId": "07b587dd-a91c-4bb0-d7f1-e247cd5dacb5"
      },
      "outputs": [
        {
          "data": {
            "text/plain": [
              "torch.Size([4, 8, 16])"
            ]
          },
          "execution_count": 25,
          "metadata": {},
          "output_type": "execute_result"
        }
      ],
      "source": [
        "# version 4: self-attention!\n",
        "torch.manual_seed(1337)\n",
        "B,T,C = 4,8,32 # batch, time, channels\n",
        "x = torch.randn(B,T,C)\n",
        "\n",
        "# let's see a single Head perform self-attention\n",
        "head_size = 16\n",
        "key = nn.Linear(C, head_size, bias=False)\n",
        "query = nn.Linear(C, head_size, bias=False)\n",
        "value = nn.Linear(C, head_size, bias=False)\n",
        "k = key(x)   # (B, T, 16)\n",
        "q = query(x) # (B, T, 16)\n",
        "wei =  q @ k.transpose(-2, -1) # (B, T, 16) @ (B, 16, T) ---> (B, T, T)\n",
        "\n",
        "tril = torch.tril(torch.ones(T, T))\n",
        "#wei = torch.zeros((T,T))\n",
        "wei = wei.masked_fill(tril == 0, float('-inf'))\n",
        "wei = F.softmax(wei, dim=-1)\n",
        "\n",
        "v = value(x)\n",
        "out = wei @ v\n",
        "#out = wei @ x\n",
        "\n",
        "out.shape"
      ]
    },
    {
      "cell_type": "code",
      "execution_count": 26,
      "metadata": {
        "colab": {
          "base_uri": "https://localhost:8080/"
        },
        "id": "vT1hdtzXCjgL",
        "outputId": "6d2c569b-7922-451f-9934-0fc564678d17"
      },
      "outputs": [
        {
          "data": {
            "text/plain": [
              "tensor([[1.0000, 0.0000, 0.0000, 0.0000, 0.0000, 0.0000, 0.0000, 0.0000],\n",
              "        [0.1574, 0.8426, 0.0000, 0.0000, 0.0000, 0.0000, 0.0000, 0.0000],\n",
              "        [0.2088, 0.1646, 0.6266, 0.0000, 0.0000, 0.0000, 0.0000, 0.0000],\n",
              "        [0.5792, 0.1187, 0.1889, 0.1131, 0.0000, 0.0000, 0.0000, 0.0000],\n",
              "        [0.0294, 0.1052, 0.0469, 0.0276, 0.7909, 0.0000, 0.0000, 0.0000],\n",
              "        [0.0176, 0.2689, 0.0215, 0.0089, 0.6812, 0.0019, 0.0000, 0.0000],\n",
              "        [0.1691, 0.4066, 0.0438, 0.0416, 0.1048, 0.2012, 0.0329, 0.0000],\n",
              "        [0.0210, 0.0843, 0.0555, 0.2297, 0.0573, 0.0709, 0.2423, 0.2391]],\n",
              "       grad_fn=<SelectBackward0>)"
            ]
          },
          "execution_count": 26,
          "metadata": {},
          "output_type": "execute_result"
        }
      ],
      "source": [
        "wei[0]"
      ]
    },
    {
      "cell_type": "markdown",
      "metadata": {
        "id": "M5CvobiQ0pLr"
      },
      "source": [
        "Notes:\n",
        "- Attention is a **communication mechanism**. Can be seen as nodes in a directed graph looking at each other and aggregating information with a weighted sum from all nodes that point to them, with data-dependent weights.\n",
        "- There is no notion of space. Attention simply acts over a set of vectors. This is why we need to positionally encode tokens.\n",
        "- Each example across batch dimension is of course processed completely independently and never \"talk\" to each other\n",
        "- In an \"encoder\" attention block just delete the single line that does masking with `tril`, allowing all tokens to communicate. This block here is called a \"decoder\" attention block because it has triangular masking, and is usually used in autoregressive settings, like language modeling.\n",
        "- \"self-attention\" just means that the keys and values are produced from the same source as queries. In \"cross-attention\", the queries still get produced from x, but the keys and values come from some other, external source (e.g. an encoder module)\n",
        "- \"Scaled\" attention additional divides `wei` by 1/sqrt(head_size). This makes it so when input Q,K are unit variance, wei will be unit variance too and Softmax will stay diffuse and not saturate too much. Illustration below"
      ]
    },
    {
      "cell_type": "code",
      "execution_count": 27,
      "metadata": {
        "id": "4SNbLq5z3oBw"
      },
      "outputs": [],
      "source": [
        "k = torch.randn(B,T,head_size)\n",
        "q = torch.randn(B,T,head_size)\n",
        "wei = q @ k.transpose(-2, -1) * head_size**-0.5"
      ]
    },
    {
      "cell_type": "code",
      "execution_count": 28,
      "metadata": {
        "colab": {
          "base_uri": "https://localhost:8080/"
        },
        "id": "Nl6I9n9IRTSo",
        "outputId": "0c5b9cd0-af8a-4564-fbad-41d844e54822"
      },
      "outputs": [
        {
          "data": {
            "text/plain": [
              "tensor(1.0449)"
            ]
          },
          "execution_count": 28,
          "metadata": {},
          "output_type": "execute_result"
        }
      ],
      "source": [
        "k.var()"
      ]
    },
    {
      "cell_type": "code",
      "execution_count": 29,
      "metadata": {
        "colab": {
          "base_uri": "https://localhost:8080/"
        },
        "id": "T1tQx7oeRvtc",
        "outputId": "3541ca1a-7447-4ef7-835e-81824aebc1b5"
      },
      "outputs": [
        {
          "data": {
            "text/plain": [
              "tensor(1.0700)"
            ]
          },
          "execution_count": 29,
          "metadata": {},
          "output_type": "execute_result"
        }
      ],
      "source": [
        "q.var()"
      ]
    },
    {
      "cell_type": "code",
      "execution_count": 30,
      "metadata": {
        "colab": {
          "base_uri": "https://localhost:8080/"
        },
        "id": "MLb_odHU3iKM",
        "outputId": "a687a222-5a2c-4cdb-c1bf-17cd05b45b69"
      },
      "outputs": [
        {
          "data": {
            "text/plain": [
              "tensor(1.0918)"
            ]
          },
          "execution_count": 30,
          "metadata": {},
          "output_type": "execute_result"
        }
      ],
      "source": [
        "wei.var()"
      ]
    },
    {
      "cell_type": "code",
      "execution_count": 31,
      "metadata": {
        "colab": {
          "base_uri": "https://localhost:8080/"
        },
        "id": "JB82yzt44REI",
        "outputId": "f07da2f1-10bb-4a7a-bcaa-578587977d00"
      },
      "outputs": [
        {
          "data": {
            "text/plain": [
              "tensor([0.1925, 0.1426, 0.2351, 0.1426, 0.2872])"
            ]
          },
          "execution_count": 31,
          "metadata": {},
          "output_type": "execute_result"
        }
      ],
      "source": [
        "torch.softmax(torch.tensor([0.1, -0.2, 0.3, -0.2, 0.5]), dim=-1)"
      ]
    },
    {
      "cell_type": "code",
      "execution_count": 32,
      "metadata": {
        "colab": {
          "base_uri": "https://localhost:8080/"
        },
        "id": "Mpt8569BB9_f",
        "outputId": "5d8b910a-6192-44ba-ebb2-497d88e0b629"
      },
      "outputs": [
        {
          "data": {
            "text/plain": [
              "tensor([0.0326, 0.0030, 0.1615, 0.0030, 0.8000])"
            ]
          },
          "execution_count": 32,
          "metadata": {},
          "output_type": "execute_result"
        }
      ],
      "source": [
        "torch.softmax(torch.tensor([0.1, -0.2, 0.3, -0.2, 0.5])*8, dim=-1) # gets too peaky, converges to one-hot"
      ]
    },
    {
      "cell_type": "code",
      "execution_count": 33,
      "metadata": {
        "colab": {
          "base_uri": "https://localhost:8080/"
        },
        "id": "2Num7sX9CKOH",
        "outputId": "929ceb78-a639-41d6-aac7-12997b5c93f0"
      },
      "outputs": [
        {
          "data": {
            "text/plain": [
              "torch.Size([32, 100])"
            ]
          },
          "execution_count": 33,
          "metadata": {},
          "output_type": "execute_result"
        }
      ],
      "source": [
        "class LayerNorm1d: # (used to be BatchNorm1d)\n",
        "\n",
        "  def __init__(self, dim, eps=1e-5, momentum=0.1):\n",
        "    self.eps = eps\n",
        "    self.gamma = torch.ones(dim)\n",
        "    self.beta = torch.zeros(dim)\n",
        "\n",
        "  def __call__(self, x):\n",
        "    # calculate the forward pass\n",
        "    xmean = x.mean(1, keepdim=True) # batch mean\n",
        "    xvar = x.var(1, keepdim=True) # batch variance\n",
        "    xhat = (x - xmean) / torch.sqrt(xvar + self.eps) # normalize to unit variance\n",
        "    self.out = self.gamma * xhat + self.beta\n",
        "    return self.out\n",
        "\n",
        "  def parameters(self):\n",
        "    return [self.gamma, self.beta]\n",
        "\n",
        "torch.manual_seed(1337)\n",
        "module = LayerNorm1d(100)\n",
        "x = torch.randn(32, 100) # batch size 32 of 100-dimensional vectors\n",
        "x = module(x)\n",
        "x.shape"
      ]
    },
    {
      "cell_type": "code",
      "execution_count": 34,
      "metadata": {
        "colab": {
          "base_uri": "https://localhost:8080/"
        },
        "id": "633T2cmnW1uk",
        "outputId": "7720fa58-0478-4e8a-86a7-502d4cce9443"
      },
      "outputs": [
        {
          "data": {
            "text/plain": [
              "(tensor(0.1469), tensor(0.8803))"
            ]
          },
          "execution_count": 34,
          "metadata": {},
          "output_type": "execute_result"
        }
      ],
      "source": [
        "x[:,0].mean(), x[:,0].std() # mean,std of one feature across all batch inputs"
      ]
    },
    {
      "cell_type": "code",
      "execution_count": 35,
      "metadata": {
        "colab": {
          "base_uri": "https://localhost:8080/"
        },
        "id": "LN9cK9BoXCYb",
        "outputId": "6368ece0-600e-417d-8a91-7c1e5d750ba8"
      },
      "outputs": [
        {
          "data": {
            "text/plain": [
              "(tensor(-9.5367e-09), tensor(1.0000))"
            ]
          },
          "execution_count": 35,
          "metadata": {},
          "output_type": "execute_result"
        }
      ],
      "source": [
        "x[0,:].mean(), x[0,:].std() # mean,std of a single input from the batch, of its features"
      ]
    },
    {
      "cell_type": "code",
      "execution_count": 36,
      "metadata": {
        "id": "dRJH6wM_XFfU"
      },
      "outputs": [],
      "source": [
        "# French to English translation example:\n",
        "\n",
        "# <--------- ENCODE ------------------><--------------- DECODE ----------------->\n",
        "# les réseaux de neurones sont géniaux! <START> neural networks are awesome!<END>\n",
        "\n"
      ]
    },
    {
      "cell_type": "markdown",
      "metadata": {
        "id": "ZcvKeBXoZFOY"
      },
      "source": [
        "### Full finished code, for reference\n",
        "\n",
        "You may want to refer directly to the git repo instead though."
      ]
    },
    {
      "cell_type": "code",
      "execution_count": 38,
      "metadata": {
        "colab": {
          "base_uri": "https://localhost:8080/"
        },
        "id": "hoelkOrFY8bN",
        "outputId": "961304cd-e379-40d4-dd56-8de0b91d2861"
      },
      "outputs": [
        {
          "name": "stdout",
          "output_type": "stream",
          "text": [
            "0.210503 M parameters\n",
            "step 0: train loss 4.4448, val loss 4.4456\n",
            "step 100: train loss 2.5406, val loss 2.5135\n",
            "step 200: train loss 2.4086, val loss 2.3873\n",
            "step 300: train loss 2.3320, val loss 2.3172\n",
            "step 400: train loss 2.2723, val loss 2.2549\n",
            "step 500: train loss 2.2173, val loss 2.1965\n",
            "step 600: train loss 2.1511, val loss 2.1403\n",
            "step 700: train loss 2.1026, val loss 2.0887\n",
            "step 800: train loss 2.0533, val loss 2.0466\n",
            "step 900: train loss 2.0148, val loss 2.0112\n",
            "step 1000: train loss 1.9797, val loss 1.9649\n",
            "step 1100: train loss 1.9458, val loss 1.9368\n",
            "step 1200: train loss 1.9232, val loss 1.9048\n",
            "step 1300: train loss 1.8825, val loss 1.8947\n",
            "step 1400: train loss 1.8753, val loss 1.8775\n",
            "step 1500: train loss 1.8510, val loss 1.8482\n",
            "step 1600: train loss 1.8362, val loss 1.8389\n",
            "step 1700: train loss 1.8108, val loss 1.8295\n",
            "step 1800: train loss 1.8175, val loss 1.8178\n",
            "step 1900: train loss 1.7895, val loss 1.8010\n",
            "step 2000: train loss 1.7762, val loss 1.7776\n",
            "step 2100: train loss 1.7627, val loss 1.7786\n",
            "step 2200: train loss 1.7530, val loss 1.7517\n",
            "step 2300: train loss 1.7569, val loss 1.7530\n",
            "step 2400: train loss 1.7220, val loss 1.7407\n",
            "step 2500: train loss 1.7236, val loss 1.7298\n",
            "step 2600: train loss 1.7135, val loss 1.7259\n",
            "step 2700: train loss 1.7187, val loss 1.7129\n",
            "step 2800: train loss 1.7005, val loss 1.7184\n",
            "step 2900: train loss 1.6888, val loss 1.7009\n",
            "step 3000: train loss 1.6776, val loss 1.6989\n",
            "step 3100: train loss 1.6817, val loss 1.6831\n",
            "step 3200: train loss 1.6722, val loss 1.6725\n",
            "step 3300: train loss 1.6699, val loss 1.6870\n",
            "step 3400: train loss 1.6620, val loss 1.6649\n",
            "step 3500: train loss 1.6544, val loss 1.6653\n",
            "step 3600: train loss 1.6400, val loss 1.6687\n",
            "step 3700: train loss 1.6504, val loss 1.6598\n",
            "step 3800: train loss 1.6267, val loss 1.6494\n",
            "step 3900: train loss 1.6354, val loss 1.6508\n",
            "step 4000: train loss 1.6282, val loss 1.6532\n",
            "step 4100: train loss 1.6250, val loss 1.6424\n",
            "step 4200: train loss 1.6162, val loss 1.6300\n",
            "step 4300: train loss 1.6055, val loss 1.6247\n",
            "step 4400: train loss 1.6034, val loss 1.6329\n",
            "step 4500: train loss 1.5975, val loss 1.6097\n",
            "step 4600: train loss 1.5861, val loss 1.6107\n",
            "step 4700: train loss 1.5966, val loss 1.6011\n",
            "step 4800: train loss 1.5887, val loss 1.6083\n",
            "step 4900: train loss 1.5892, val loss 1.6086\n",
            "step 4999: train loss 1.5747, val loss 1.5955\n"
          ]
        }
      ],
      "source": [
        "import torch\n",
        "import torch.nn as nn\n",
        "from torch.nn import functional as F\n",
        "\n",
        "# hyperparameters\n",
        "batch_size = 16 # how many independent sequences will we process in parallel?\n",
        "block_size = 32 # what is the maximum context length for predictions?\n",
        "max_iters = 5000\n",
        "eval_interval = 100\n",
        "learning_rate = 1e-3\n",
        "device = 'cuda' if torch.cuda.is_available() else 'cpu'\n",
        "eval_iters = 200\n",
        "n_embd = 64\n",
        "n_head = 4\n",
        "n_layer = 4\n",
        "dropout = 0.0\n",
        "# ------------\n",
        "\n",
        "torch.manual_seed(1337)\n",
        "\n",
        "# wget https://raw.githubusercontent.com/karpathy/char-rnn/master/data/tinyshakespeare/input.txt\n",
        "with open('input.txt', 'r', encoding='utf-8') as f:\n",
        "    text = f.read()\n",
        "\n",
        "# here are all the unique characters that occur in this text\n",
        "chars = sorted(list(set(text)))\n",
        "vocab_size = len(chars)\n",
        "# create a mapping from characters to integers\n",
        "stoi = { ch:i for i,ch in enumerate(chars) }\n",
        "itos = { i:ch for i,ch in enumerate(chars) }\n",
        "encode = lambda s: [stoi[c] for c in s] # encoder: take a string, output a list of integers\n",
        "decode = lambda l: ''.join([itos[i] for i in l]) # decoder: take a list of integers, output a string\n",
        "\n",
        "# Train and test splits\n",
        "data = torch.tensor(encode(text), dtype=torch.long)\n",
        "n = int(0.9*len(data)) # first 90% will be train, rest val\n",
        "train_data = data[:n]\n",
        "val_data = data[n:]\n",
        "\n",
        "# data loading\n",
        "def get_batch(split):\n",
        "    # generate a small batch of data of inputs x and targets y\n",
        "    data = train_data if split == 'train' else val_data\n",
        "    ix = torch.randint(len(data) - block_size, (batch_size,))\n",
        "    x = torch.stack([data[i:i+block_size] for i in ix])\n",
        "    y = torch.stack([data[i+1:i+block_size+1] for i in ix])\n",
        "    x, y = x.to(device), y.to(device)\n",
        "    return x, y\n",
        "\n",
        "@torch.no_grad()\n",
        "def estimate_loss():\n",
        "    out = {}\n",
        "    model.eval()\n",
        "    for split in ['train', 'val']:\n",
        "        losses = torch.zeros(eval_iters)\n",
        "        for k in range(eval_iters):\n",
        "            X, Y = get_batch(split)\n",
        "            logits, loss = model(X, Y)\n",
        "            losses[k] = loss.item()\n",
        "        out[split] = losses.mean()\n",
        "    model.train()\n",
        "    return out\n",
        "\n",
        "class Head(nn.Module):\n",
        "    \"\"\" one head of self-attention \"\"\"\n",
        "\n",
        "    def __init__(self, head_size):\n",
        "        super().__init__()\n",
        "        self.key = nn.Linear(n_embd, head_size, bias=False)\n",
        "        self.query = nn.Linear(n_embd, head_size, bias=False)\n",
        "        self.value = nn.Linear(n_embd, head_size, bias=False)\n",
        "        self.register_buffer('tril', torch.tril(torch.ones(block_size, block_size)))\n",
        "\n",
        "        self.dropout = nn.Dropout(dropout)\n",
        "\n",
        "    def forward(self, x):\n",
        "        B,T,C = x.shape\n",
        "        k = self.key(x)   # (B,T,C)\n",
        "        q = self.query(x) # (B,T,C)\n",
        "        # compute attention scores (\"affinities\")\n",
        "        wei = q @ k.transpose(-2,-1) * C**-0.5 # (B, T, C) @ (B, C, T) -> (B, T, T)\n",
        "        wei = wei.masked_fill(self.tril[:T, :T] == 0, float('-inf')) # (B, T, T)\n",
        "        wei = F.softmax(wei, dim=-1) # (B, T, T)\n",
        "        wei = self.dropout(wei)\n",
        "        # perform the weighted aggregation of the values\n",
        "        v = self.value(x) # (B,T,C)\n",
        "        out = wei @ v # (B, T, T) @ (B, T, C) -> (B, T, C)\n",
        "        return out\n",
        "\n",
        "class MultiHeadAttention(nn.Module):\n",
        "    \"\"\" multiple heads of self-attention in parallel \"\"\"\n",
        "\n",
        "    def __init__(self, num_heads, head_size):\n",
        "        super().__init__()\n",
        "        self.heads = nn.ModuleList([Head(head_size) for _ in range(num_heads)])\n",
        "        self.proj = nn.Linear(n_embd, n_embd)\n",
        "        self.dropout = nn.Dropout(dropout)\n",
        "\n",
        "    def forward(self, x):\n",
        "        out = torch.cat([h(x) for h in self.heads], dim=-1)\n",
        "        out = self.dropout(self.proj(out))\n",
        "        return out\n",
        "\n",
        "class FeedFoward(nn.Module):\n",
        "    \"\"\" a simple linear layer followed by a non-linearity \"\"\"\n",
        "\n",
        "    def __init__(self, n_embd):\n",
        "        super().__init__()\n",
        "        self.net = nn.Sequential(\n",
        "            nn.Linear(n_embd, 4 * n_embd),\n",
        "            nn.ReLU(),\n",
        "            nn.Linear(4 * n_embd, n_embd),\n",
        "            nn.Dropout(dropout),\n",
        "        )\n",
        "\n",
        "    def forward(self, x):\n",
        "        return self.net(x)\n",
        "\n",
        "class Block(nn.Module):\n",
        "    \"\"\" Transformer block: communication followed by computation \"\"\"\n",
        "\n",
        "    def __init__(self, n_embd, n_head):\n",
        "        # n_embd: embedding dimension, n_head: the number of heads we'd like\n",
        "        super().__init__()\n",
        "        head_size = n_embd // n_head\n",
        "        self.sa = MultiHeadAttention(n_head, head_size)\n",
        "        self.ffwd = FeedFoward(n_embd)\n",
        "        self.ln1 = nn.LayerNorm(n_embd)\n",
        "        self.ln2 = nn.LayerNorm(n_embd)\n",
        "\n",
        "    def forward(self, x):\n",
        "        x = x + self.sa(self.ln1(x))\n",
        "        x = x + self.ffwd(self.ln2(x))\n",
        "        return x\n",
        "\n",
        "# super simple bigram model\n",
        "class BigramLanguageModel(nn.Module):\n",
        "\n",
        "    def __init__(self):\n",
        "        super().__init__()\n",
        "        # each token directly reads off the logits for the next token from a lookup table\n",
        "        self.token_embedding_table = nn.Embedding(vocab_size, n_embd)\n",
        "        self.position_embedding_table = nn.Embedding(block_size, n_embd)\n",
        "        self.blocks = nn.Sequential(*[Block(n_embd, n_head=n_head) for _ in range(n_layer)])\n",
        "        self.ln_f = nn.LayerNorm(n_embd) # final layer norm\n",
        "        self.lm_head = nn.Linear(n_embd, vocab_size)\n",
        "\n",
        "    def forward(self, idx, targets=None):\n",
        "        B, T = idx.shape\n",
        "\n",
        "        # idx and targets are both (B,T) tensor of integers\n",
        "        tok_emb = self.token_embedding_table(idx) # (B,T,C)\n",
        "        pos_emb = self.position_embedding_table(torch.arange(T, device=device)) # (T,C)\n",
        "        x = tok_emb + pos_emb # (B,T,C)\n",
        "        x = self.blocks(x) # (B,T,C)\n",
        "        x = self.ln_f(x) # (B,T,C)\n",
        "        logits = self.lm_head(x) # (B,T,vocab_size)\n",
        "\n",
        "        if targets is None:\n",
        "            loss = None\n",
        "        else:\n",
        "            B, T, C = logits.shape\n",
        "            logits = logits.view(B*T, C)\n",
        "            targets = targets.view(B*T)\n",
        "            loss = F.cross_entropy(logits, targets)\n",
        "\n",
        "        return logits, loss\n",
        "\n",
        "    def generate(self, idx, max_new_tokens):\n",
        "        # idx is (B, T) array of indices in the current context\n",
        "        for _ in range(max_new_tokens):\n",
        "            # crop idx to the last block_size tokens\n",
        "            idx_cond = idx[:, -block_size:]\n",
        "            # get the predictions\n",
        "            logits, loss = self(idx_cond)\n",
        "            # focus only on the last time step\n",
        "            logits = logits[:, -1, :] # becomes (B, C)\n",
        "            # apply softmax to get probabilities\n",
        "            probs = F.softmax(logits, dim=-1) # (B, C)\n",
        "            # sample from the distribution\n",
        "            idx_next = torch.multinomial(probs, num_samples=1) # (B, 1)\n",
        "            # append sampled index to the running sequence\n",
        "            idx = torch.cat((idx, idx_next), dim=1) # (B, T+1)\n",
        "        return idx\n",
        "\n",
        "model = BigramLanguageModel()\n",
        "m = model.to(device)\n",
        "# print the number of parameters in the model\n",
        "print(sum(p.numel() for p in m.parameters())/1e6, 'M parameters')\n",
        "\n",
        "# create a PyTorch optimizer\n",
        "optimizer = torch.optim.AdamW(model.parameters(), lr=learning_rate)\n",
        "\n",
        "for iter in range(max_iters):\n",
        "\n",
        "    # every once in a while evaluate the loss on train and val sets\n",
        "    if iter % eval_interval == 0 or iter == max_iters - 1:\n",
        "        losses = estimate_loss()\n",
        "        print(f\"step {iter}: train loss {losses['train']:.4f}, val loss {losses['val']:.4f}\")\n",
        "\n",
        "    # sample a batch of data\n",
        "    xb, yb = get_batch('train')\n",
        "\n",
        "    # evaluate the loss\n",
        "    logits, loss = model(xb, yb)\n",
        "    optimizer.zero_grad(set_to_none=True)\n",
        "    loss.backward()\n",
        "    optimizer.step()\n",
        "\n",
        "# generate from the model\n",
        "context = torch.zeros((1, 1), dtype=torch.long, device=device)\n",
        "\n"
      ]
    },
    {
      "cell_type": "code",
      "execution_count": 39,
      "metadata": {
        "id": "fjjvMifYZf7x"
      },
      "outputs": [
        {
          "name": "stdout",
          "output_type": "stream",
          "text": [
            "he fast chants olward all notion at though hat emboldors prowed I Harry .Knermiove for turing as Dambercom feet you \n",
            " a samberal fave him .Arthed it one aquick .Profesy .Abucted at his stay .You tald back agride Dumbledores life to \n",
            " Harry Ive man said Mr Malfoy him said a dunnessed ead behind the smiled nothing panty trencial .She bledged Mumble \n",
            " said Harry when gre streem beckped a faverth might of was a diring instancing in the usefore through the wright \n",
            " over all .and you things says musp at him .Ter have that Professor McGonagall right aroun diver anzed soling Mrs \n",
            " Wenter cout the from of the fircollimal led ove thing from his montion Harry out oven somedor their stood him \n",
            " but he Quirrently .If was out work an hugge .Mare you saveinto left .Voldememolly in his Quaterty furesmed than Peeves \n",
            " room on imms which wizard that seemed to ites .He was ssow to Them and sto said .To kind her \n",
            " Well fray at that which over looking .T I was an the time towing .The out ever lust the Hermione \n",
            " luse .The end a soloday be it abit Fudgeng as a few ludding him a lond the port pullsaly an \n",
            " old spund there .Harry though en lowed ims fir they torests !Choushilder .Malfoybock .What he coman .Pery had boabing in \n",
            " his furioul mest of to standing very dentads own and the were Hermione window amentioness but my might put of \n",
            " worrist said Mrst Lives I mimp to but it head .Umbridge was good everyow the said Hermione hisapped and Professor \n",
            " McGonagall his hear whomse lright .Fudde away scarole him Crything and as the curroor straiged one strighd as spanded teach \n",
            " em her noish at silents offeen .Ling there undery could bed up his ward and back whiuzed a diffelt .He \n",
            " measvand a he dunnered whimhen as a low sitting of a moment pushion whisper that Keigh Bet over senoua aroung \n",
            " ?eventer and Tor you ginnedly eyear righted or freath a qoutfick it besink her achned Oble said Hermione to light \n",
            " withore as be lifs at think here a well toward as houghlawed in light !It it the will onf Holdare \n",
            " behinw emortes dinxt thin\n"
          ]
        }
      ],
      "source": [
        "display(decode(m.generate(context, max_new_tokens=2000)[0].tolist()))"
      ]
    },
    {
      "cell_type": "code",
      "execution_count": 40,
      "metadata": {},
      "outputs": [
        {
          "name": "stdout",
          "output_type": "stream",
          "text": [
            "trangle than colletivalidy and .Dupbledore all fiftends .I whoull at himstends to me worter whill prantabling .I a could be \n",
            " cave .It avold said Humbnion mutter it the bodd was said !said Harry beese came moss cup acroxed all suress \n",
            " when unst out his an had been it .I eam as and eads big out right the dure in out \n",
            " on there strany on as to Dumbledore and unled Ron weady seplace e rabes lunness .The looking to ever blood \n",
            " strode with Chrolled everyther realy I dont Hermione a chaugh .Harry room if her ares more been a fold out \n",
            " ic haunt frimpting il their his snappy ups villagh you unasteed noms .Hagrid lingers everyjustion and Ron .I misted a \n",
            " had at mind be old grues besntieng to ger her through in through their of wat out on stoon .Madam \n",
            " at it every Criously .Eypended her for Harry hap .He pointy .Well to a mand strealipt again the must she \n",
            " branklowd sorrus out as a jecosts the sittion as thesting what had nees sure thim mannerfoed to go made gothing \n",
            " oced on the dest and ulpress hed a would into diad Harry germly coulding to correach every throve up ?You \n",
            " Sin by alouthed .There steemf rament more diend about him had nettime quiction chetworn fath us bad in the brone \n",
            " .That he was stimes mind just be agmador applessody if his a prubkius in prallvoice its me somen to I \n",
            " turion .Minay cathed be out out that he sure crooing been of out carly table low him Mrs Clook .Well \n",
            " was is said beak to cour be in h a more beist no esped anying mirral it Invioloced and a \n",
            " passicedly no was alll shant Staround his forwer that Mrnapxy .His your Quidged Jum .Brightly ungred ics was porthers half \n",
            " it creeciok and righ old an who all slay notily and .do I could Dumbledore the twl gin or an \n",
            " the looking quitherents of shelf a glowed Blanged ontI onthers bronding .the move sludde also compant incrobes pacisuing its quiets \n",
            " .There Fidge he handial hurderthings and thouff papes from the would alresseeved was lunnily while to for nos big in \n",
            " the staired making the looked uncosssidents floor the had not t\n"
          ]
        }
      ],
      "source": [
        "display(decode(m.generate(context, max_new_tokens=2000)[0].tolist()))"
      ]
    },
    {
      "cell_type": "code",
      "execution_count": null,
      "metadata": {},
      "outputs": [],
      "source": []
    }
  ],
  "metadata": {
    "colab": {
      "provenance": []
    },
    "kernelspec": {
      "display_name": "Python 3",
      "name": "python3"
    },
    "language_info": {
      "codemirror_mode": {
        "name": "ipython",
        "version": 3
      },
      "file_extension": ".py",
      "mimetype": "text/x-python",
      "name": "python",
      "nbconvert_exporter": "python",
      "pygments_lexer": "ipython3",
      "version": "3.11.9"
    }
  },
  "nbformat": 4,
  "nbformat_minor": 0
}
